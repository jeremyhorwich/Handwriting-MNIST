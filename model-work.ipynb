{
 "cells": [
  {
   "cell_type": "code",
   "execution_count": 1,
   "metadata": {},
   "outputs": [],
   "source": [
    "import torch\n",
    "from torch import nn\n",
    "from torch.utils.data import DataLoader\n",
    "from torchvision import datasets\n",
    "from torchvision.transforms import ToTensor"
   ]
  },
  {
   "cell_type": "code",
   "execution_count": 2,
   "metadata": {},
   "outputs": [],
   "source": [
    "training_data = datasets.MNIST(\n",
    "    root=\"data\",\n",
    "    train=True,\n",
    "    download=True,\n",
    "    transform=ToTensor(),\n",
    ")\n",
    "\n",
    "test_data = datasets.MNIST(\n",
    "    root=\"data\",\n",
    "    train=False,\n",
    "    download=True,\n",
    "    transform=ToTensor(),\n",
    ")"
   ]
  },
  {
   "cell_type": "code",
   "execution_count": 3,
   "metadata": {},
   "outputs": [
    {
     "name": "stdout",
     "output_type": "stream",
     "text": [
      "Shape of x [N, C, H, W]: torch.Size([10, 1, 28, 28])\n",
      "Shape of y: torch.Size([10]) torch.int64\n"
     ]
    }
   ],
   "source": [
    "BATCH_SIZE = 10\n",
    "\n",
    "train_dataloader = DataLoader(training_data, batch_size=BATCH_SIZE)\n",
    "test_dataloader = DataLoader(test_data, batch_size=BATCH_SIZE)\n",
    "\n",
    "for x, y in test_dataloader:\n",
    "    print(f\"Shape of x [N, C, H, W]: {x.shape}\")\n",
    "    print(f\"Shape of y: {y.shape} {y.dtype}\")\n",
    "    break"
   ]
  },
  {
   "cell_type": "code",
   "execution_count": 4,
   "metadata": {},
   "outputs": [
    {
     "name": "stdout",
     "output_type": "stream",
     "text": [
      "Using cpu device\n"
     ]
    }
   ],
   "source": [
    "device = (\n",
    "    \"cuda\"\n",
    "    if torch.cuda.is_available()\n",
    "    else \"mps\"\n",
    "    if torch.backends.mps.is_available()\n",
    "    else \"cpu\"\n",
    ")\n",
    "print(f\"Using {device} device\")"
   ]
  },
  {
   "cell_type": "code",
   "execution_count": 5,
   "metadata": {},
   "outputs": [
    {
     "name": "stdout",
     "output_type": "stream",
     "text": [
      "Network(\n",
      "  (flatten): Flatten(start_dim=1, end_dim=-1)\n",
      "  (simple_sigmoid_stack): Sequential(\n",
      "    (0): Linear(in_features=784, out_features=30, bias=True)\n",
      "    (1): Sigmoid()\n",
      "    (2): Linear(in_features=30, out_features=10, bias=True)\n",
      "    (3): Sigmoid()\n",
      "  )\n",
      ")\n"
     ]
    }
   ],
   "source": [
    "from network import Network\n",
    "\n",
    "model = Network().to(device)\n",
    "print(model)"
   ]
  },
  {
   "cell_type": "code",
   "execution_count": 6,
   "metadata": {},
   "outputs": [],
   "source": [
    "loss_fn = nn.CrossEntropyLoss()\n",
    "optimizer = torch.optim.SGD(model.parameters(), lr=0.5)"
   ]
  },
  {
   "cell_type": "code",
   "execution_count": 15,
   "metadata": {},
   "outputs": [],
   "source": [
    "def train(data_loader, model, loss_fn, optimizer):\n",
    "    size = len(data_loader.dataset)\n",
    "    model.train()\n",
    "    for batch, (X,y) in enumerate(data_loader):\n",
    "        X, y = X.to(device), y.to(device)\n",
    "        \n",
    "        pred = model(X)\n",
    "        loss = loss_fn(pred, y)\n",
    "\n",
    "        loss.backward()\n",
    "        optimizer.step()\n",
    "        optimizer.zero_grad()\n",
    "\n",
    "        if batch % 1000 == 0:\n",
    "            loss, current = loss.item(), (batch + 1) * len(X)\n",
    "            print(f\"loss: {loss:>7f} [{current:>5d}/{size:>5d}]\")"
   ]
  },
  {
   "cell_type": "code",
   "execution_count": 8,
   "metadata": {},
   "outputs": [],
   "source": [
    "def test(data_loader, model, loss_fn):\n",
    "    size = len(data_loader.dataset)\n",
    "    num_batches = len(data_loader)\n",
    "    model.eval()\n",
    "    test_loss, correct = 0, 0\n",
    "    with torch.no_grad():\n",
    "        for X, y in data_loader:\n",
    "            X = X.to(device)\n",
    "            y = y.to(device)\n",
    "            pred = model(X)\n",
    "            test_loss += loss_fn(pred, y).item()\n",
    "            correct += (pred.argmax(1) == y).type(torch.float).sum().item()\n",
    "    test_loss /= num_batches\n",
    "    correct /= size\n",
    "    print(f\"Test Error: \\n Accuracy: {(100*correct):>0.1f}%, Avg loss: {test_loss:>8f} \\n\")"
   ]
  },
  {
   "cell_type": "code",
   "execution_count": 16,
   "metadata": {},
   "outputs": [
    {
     "name": "stdout",
     "output_type": "stream",
     "text": [
      "Epoch 1\n",
      "--------------------\n",
      "loss: 1.467062 [   10/60000]\n",
      "loss: 1.486207 [10010/60000]\n",
      "loss: 1.466832 [20010/60000]\n",
      "loss: 1.464437 [30010/60000]\n",
      "loss: 1.462867 [40010/60000]\n",
      "loss: 1.482557 [50010/60000]\n",
      "Test Error: \n",
      " Accuracy: 94.7%, Avg loss: 1.512959 \n",
      "\n",
      "Epoch 2\n",
      "--------------------\n",
      "loss: 1.467066 [   10/60000]\n",
      "loss: 1.485505 [10010/60000]\n",
      "loss: 1.466623 [20010/60000]\n",
      "loss: 1.464514 [30010/60000]\n",
      "loss: 1.462759 [40010/60000]\n",
      "loss: 1.481701 [50010/60000]\n",
      "Test Error: \n",
      " Accuracy: 94.8%, Avg loss: 1.511931 \n",
      "\n",
      "Epoch 3\n",
      "--------------------\n",
      "loss: 1.466909 [   10/60000]\n",
      "loss: 1.484993 [10010/60000]\n",
      "loss: 1.466517 [20010/60000]\n",
      "loss: 1.464666 [30010/60000]\n",
      "loss: 1.462641 [40010/60000]\n",
      "loss: 1.482133 [50010/60000]\n",
      "Test Error: \n",
      " Accuracy: 94.9%, Avg loss: 1.511040 \n",
      "\n",
      "Epoch 4\n",
      "--------------------\n",
      "loss: 1.466600 [   10/60000]\n",
      "loss: 1.484477 [10010/60000]\n",
      "loss: 1.466440 [20010/60000]\n",
      "loss: 1.465054 [30010/60000]\n",
      "loss: 1.462542 [40010/60000]\n",
      "loss: 1.481789 [50010/60000]\n",
      "Test Error: \n",
      " Accuracy: 94.9%, Avg loss: 1.510280 \n",
      "\n",
      "Epoch 5\n",
      "--------------------\n",
      "loss: 1.466208 [   10/60000]\n",
      "loss: 1.483969 [10010/60000]\n",
      "loss: 1.466510 [20010/60000]\n",
      "loss: 1.465601 [30010/60000]\n",
      "loss: 1.462465 [40010/60000]\n",
      "loss: 1.480838 [50010/60000]\n",
      "Test Error: \n",
      " Accuracy: 95.0%, Avg loss: 1.509610 \n",
      "\n",
      "Epoch 6\n",
      "--------------------\n",
      "loss: 1.465989 [   10/60000]\n",
      "loss: 1.483149 [10010/60000]\n",
      "loss: 1.466788 [20010/60000]\n",
      "loss: 1.466133 [30010/60000]\n",
      "loss: 1.462406 [40010/60000]\n",
      "loss: 1.480068 [50010/60000]\n",
      "Test Error: \n",
      " Accuracy: 95.0%, Avg loss: 1.509049 \n",
      "\n",
      "Epoch 7\n",
      "--------------------\n",
      "loss: 1.465515 [   10/60000]\n",
      "loss: 1.482134 [10010/60000]\n",
      "loss: 1.467091 [20010/60000]\n",
      "loss: 1.466609 [30010/60000]\n",
      "loss: 1.462376 [40010/60000]\n",
      "loss: 1.479575 [50010/60000]\n",
      "Test Error: \n",
      " Accuracy: 95.1%, Avg loss: 1.508583 \n",
      "\n",
      "Epoch 8\n",
      "--------------------\n",
      "loss: 1.464591 [   10/60000]\n",
      "loss: 1.480976 [10010/60000]\n",
      "loss: 1.467434 [20010/60000]\n",
      "loss: 1.467137 [30010/60000]\n",
      "loss: 1.462375 [40010/60000]\n",
      "loss: 1.479114 [50010/60000]\n",
      "Test Error: \n",
      " Accuracy: 95.2%, Avg loss: 1.508179 \n",
      "\n",
      "Epoch 9\n",
      "--------------------\n",
      "loss: 1.463999 [   10/60000]\n",
      "loss: 1.479964 [10010/60000]\n",
      "loss: 1.467839 [20010/60000]\n",
      "loss: 1.467509 [30010/60000]\n",
      "loss: 1.462396 [40010/60000]\n",
      "loss: 1.478615 [50010/60000]\n",
      "Test Error: \n",
      " Accuracy: 95.2%, Avg loss: 1.507838 \n",
      "\n",
      "Epoch 10\n",
      "--------------------\n",
      "loss: 1.463910 [   10/60000]\n",
      "loss: 1.479209 [10010/60000]\n",
      "loss: 1.468169 [20010/60000]\n",
      "loss: 1.467858 [30010/60000]\n",
      "loss: 1.462431 [40010/60000]\n",
      "loss: 1.478124 [50010/60000]\n",
      "Test Error: \n",
      " Accuracy: 95.3%, Avg loss: 1.507534 \n",
      "\n",
      "Done!\n"
     ]
    }
   ],
   "source": [
    "epochs = 10\n",
    "for t in range(epochs):\n",
    "    print(f\"Epoch {t+1}\\n--------------------\")\n",
    "    train(train_dataloader, model, loss_fn, optimizer)\n",
    "    test(test_dataloader, model, loss_fn)\n",
    "print(\"Done!\")"
   ]
  },
  {
   "cell_type": "code",
   "execution_count": 10,
   "metadata": {},
   "outputs": [
    {
     "name": "stdout",
     "output_type": "stream",
     "text": [
      "Saved PyTorch Model State to model.pth\n"
     ]
    }
   ],
   "source": [
    "torch.save(model.state_dict(), \"model.pth\")\n",
    "print(\"Saved PyTorch Model State to model.pth\")"
   ]
  },
  {
   "cell_type": "code",
   "execution_count": 17,
   "metadata": {},
   "outputs": [
    {
     "name": "stdout",
     "output_type": "stream",
     "text": [
      "Predicted: 7, Actual: 7\n"
     ]
    }
   ],
   "source": [
    "model.eval()\n",
    "x, y = test_data[0][0], test_data[0][1]\n",
    "with torch.no_grad():\n",
    "    x = x.to(device)\n",
    "    pred = model(x)\n",
    "    predicted = int(pred[0].argmax(0) )\n",
    "    print(f\"Predicted: {predicted}, Actual: {y}\")"
   ]
  }
 ],
 "metadata": {
  "kernelspec": {
   "display_name": "venv",
   "language": "python",
   "name": "python3"
  },
  "language_info": {
   "codemirror_mode": {
    "name": "ipython",
    "version": 3
   },
   "file_extension": ".py",
   "mimetype": "text/x-python",
   "name": "python",
   "nbconvert_exporter": "python",
   "pygments_lexer": "ipython3",
   "version": "3.12.3"
  }
 },
 "nbformat": 4,
 "nbformat_minor": 2
}
